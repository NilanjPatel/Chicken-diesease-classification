{
 "cells": [
  {
   "cell_type": "code",
   "execution_count": 40,
   "id": "ee3c986a-2bb4-46f4-91e0-43075da4130a",
   "metadata": {},
   "outputs": [
    {
     "data": {
      "text/plain": [
       "'/home/nilanj/PyCharmProjects/ML/Chicken-diesease-classification'"
      ]
     },
     "execution_count": 40,
     "metadata": {},
     "output_type": "execute_result"
    }
   ],
   "source": [
    "import os\n",
    "\n",
    "os.chdir(\"/home/nilanj/PyCharmProjects/ML/Chicken-diesease-classification\")\n",
    "%pwd"
   ]
  },
  {
   "cell_type": "code",
   "execution_count": 41,
   "id": "ca430de0-c50c-452c-999a-13a43a1f0216",
   "metadata": {},
   "outputs": [],
   "source": [
    "#update entity\n",
    "from dataclasses import dataclass\n",
    "from pathlib import Path\n",
    "\n",
    "\n",
    "@dataclass(frozen=True)\n",
    "class PrepareCallbacksConfig:\n",
    "    root_dir: Path\n",
    "    tensorboard_root_log_dir: Path\n",
    "    checkpoint_model_filepath: Path\n",
    "    \n",
    " "
   ]
  },
  {
   "cell_type": "code",
   "execution_count": 42,
   "id": "e00f0cf5-ae3b-40e9-b770-70e7aebbe716",
   "metadata": {},
   "outputs": [],
   "source": [
    "# update configuration\n",
    "\n",
    "from cnnClassifire.constants import *\n",
    "from cnnClassifire.utils.common import read_yaml, create_directories\n",
    "\n",
    "class ConfigurationManager:\n",
    "    def __init__(\n",
    "        self, \n",
    "        config_filepath = CONFIG_FILE_PATH,\n",
    "        params_filepath = PARAMS_FILE_PATH):\n",
    "        self.config = read_yaml(config_filepath)\n",
    "        self.params = read_yaml(params_filepath)\n",
    "        create_directories([self.config.artifacts_root])\n",
    "\n",
    "\n",
    "    \n",
    "    def get_prepare_callback_config(self) -> PrepareCallbacksConfig:\n",
    "        config = self.config.prepare_callbacks\n",
    "        model_ckpt_dir = os.path.dirname(config.checkpoint_model_filepath)\n",
    "        create_directories([\n",
    "            Path(model_ckpt_dir),\n",
    "            Path(config.tensorboard_root_log_dir)\n",
    "        ])\n",
    "\n",
    "        prepare_callback_config = PrepareCallbacksConfig(\n",
    "            root_dir=Path(config.root_dir),\n",
    "            tensorboard_root_log_dir=Path(config.tensorboard_root_log_dir),\n",
    "            checkpoint_model_filepath=Path(config.checkpoint_model_filepath)\n",
    "        )\n",
    "\n",
    "        return prepare_callback_config"
   ]
  },
  {
   "cell_type": "code",
   "execution_count": 53,
   "id": "07022576-b3d5-41c9-8415-bf083503df78",
   "metadata": {},
   "outputs": [],
   "source": [
    "# create component\n",
    "\n",
    "\n",
    "import os\n",
    "import urllib.request as request\n",
    "from zipfile import ZipFile\n",
    "import tensorflow as tf\n",
    "import time\n",
    "\n",
    "class PrepareCallback:\n",
    "    def __init__(self, config: PrepareCallbacksConfig):\n",
    "        self.config = config\n",
    "\n",
    "\n",
    "    \n",
    "    @property\n",
    "    def _create_tb_callbacks(self):\n",
    "        timestamp = time.strftime(\"%Y-%m-%d-%H-%M-%S\")\n",
    "        print(f\"config.tensorboard_root_log_dir:{self.config.tensorboard_root_log_dir}, {type(self.config.tensorboard_root_log_dir)}\")\n",
    "\n",
    "        tb_running_log_dir = os.path.join(\n",
    "            self.config.tensorboard_root_log_dir,\n",
    "            f\"tb_logs_at_{timestamp}\",\n",
    "        )\n",
    "        return tf.keras.callbacks.TensorBoard(log_dir=tb_running_log_dir)\n",
    "    \n",
    "\n",
    "    @property\n",
    "    def _create_ckpt_callbacks(self):\n",
    "        print(f\"config.checkpoint_model_filepath:{self.config.checkpoint_model_filepath}, {type(self.config.checkpoint_model_filepath)}\")\n",
    "        return tf.keras.callbacks.ModelCheckpoint(\n",
    "            filepath=str(self.config.checkpoint_model_filepath),\n",
    "            monitor='val_loss',\n",
    "            save_best_only=True,\n",
    "            save_weights_only=False,\n",
    "            mode='min',\n",
    "            verbose=1\n",
    "        )\n",
    "\n",
    "\n",
    "    def get_tb_ckpt_callbacks(self):\n",
    "        return [\n",
    "            self._create_tb_callbacks,\n",
    "            self._create_ckpt_callbacks\n",
    "        ]\n"
   ]
  },
  {
   "cell_type": "code",
   "execution_count": 54,
   "id": "882615df-cc77-4886-b45e-d05b4039dd05",
   "metadata": {},
   "outputs": [
    {
     "name": "stdout",
     "output_type": "stream",
     "text": [
      "[2023-08-23 20:42:29,213:INFO:common:yaml file: config/config.yaml loaded successfully]\n",
      "[2023-08-23 20:42:29,218:INFO:common:yaml file: params.yaml loaded successfully]\n",
      "[2023-08-23 20:42:29,220:INFO:common:created directory at: artifacts]\n",
      "[2023-08-23 20:42:29,221:INFO:common:created directory at: artifacts/prepare_callbacks/checkpoint_dir]\n",
      "[2023-08-23 20:42:29,223:INFO:common:created directory at: artifacts/prepare_callbacks/tensorboard_log_dir]\n",
      "config.tensorboard_root_log_dir:artifacts/prepare_callbacks/tensorboard_log_dir, <class 'pathlib.PosixPath'>\n",
      "config.checkpoint_model_filepath:artifacts/prepare_callbacks/checkpoint_dir/model.h5, <class 'pathlib.PosixPath'>\n"
     ]
    }
   ],
   "source": [
    "try:\n",
    "    config = ConfigurationManager()\n",
    "    prepare_callbacks_config = config.get_prepare_callback_config()\n",
    "    prepare_callbacks = PrepareCallback(config=prepare_callbacks_config)\n",
    "    callback_list = prepare_callbacks.get_tb_ckpt_callbacks()\n",
    "except Exception as e:\n",
    "    raise e"
   ]
  },
  {
   "cell_type": "code",
   "execution_count": null,
   "id": "883d76bf-3bcf-46d5-be51-94ed60ba7ab5",
   "metadata": {},
   "outputs": [],
   "source": []
  },
  {
   "cell_type": "code",
   "execution_count": null,
   "id": "e3db1221-70f6-4a66-951a-2d5e78b449df",
   "metadata": {},
   "outputs": [],
   "source": []
  },
  {
   "cell_type": "code",
   "execution_count": null,
   "id": "bf2c7dc6-6fe7-4fbd-aec9-833e973aa677",
   "metadata": {},
   "outputs": [],
   "source": []
  }
 ],
 "metadata": {
  "kernelspec": {
   "display_name": "Python 3 (ipykernel)",
   "language": "python",
   "name": "python3"
  },
  "language_info": {
   "codemirror_mode": {
    "name": "ipython",
    "version": 3
   },
   "file_extension": ".py",
   "mimetype": "text/x-python",
   "name": "python",
   "nbconvert_exporter": "python",
   "pygments_lexer": "ipython3",
   "version": "3.10.12"
  }
 },
 "nbformat": 4,
 "nbformat_minor": 5
}
