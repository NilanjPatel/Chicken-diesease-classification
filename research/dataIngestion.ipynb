{
 "cells": [
  {
   "cell_type": "code",
   "execution_count": 1,
   "id": "f7f71cf1-d25b-443a-b12c-f23a8e1123b7",
   "metadata": {},
   "outputs": [],
   "source": [
    "import os"
   ]
  },
  {
   "cell_type": "code",
   "execution_count": 2,
   "id": "89159822-968c-4580-a9aa-3cc50b756e65",
   "metadata": {},
   "outputs": [
    {
     "data": {
      "text/plain": [
       "'/home/nilanj/PyCharmProjects/ML/Chicken-diesease-classification/research'"
      ]
     },
     "execution_count": 2,
     "metadata": {},
     "output_type": "execute_result"
    }
   ],
   "source": [
    "%pwd"
   ]
  },
  {
   "cell_type": "code",
   "execution_count": 3,
   "id": "be96e0b1-47ee-4837-9e56-8102c03d6564",
   "metadata": {},
   "outputs": [],
   "source": [
    "os.chdir(\"../\")"
   ]
  },
  {
   "cell_type": "code",
   "execution_count": 4,
   "id": "4ba8eae0-bae2-4952-9fa6-67b67da72ec7",
   "metadata": {},
   "outputs": [
    {
     "data": {
      "text/plain": [
       "'/home/nilanj/PyCharmProjects/ML/Chicken-diesease-classification'"
      ]
     },
     "execution_count": 4,
     "metadata": {},
     "output_type": "execute_result"
    }
   ],
   "source": [
    "%pwd"
   ]
  },
  {
   "cell_type": "code",
   "execution_count": 5,
   "id": "02f8f89c-96d0-4df5-839b-76a6a21183cb",
   "metadata": {},
   "outputs": [],
   "source": [
    "# After upadting config I will update entity as I don't have any secret and I am going to update params later\n",
    " # you can create custom return type usin entity"
   ]
  },
  {
   "cell_type": "code",
   "execution_count": 6,
   "id": "f596878e-fcd9-4ff8-912b-2e6985d137af",
   "metadata": {},
   "outputs": [],
   "source": [
    "from dataclasses import dataclass\n",
    "from pathlib import Path\n",
    "\n",
    "@dataclass(frozen=True)\n",
    "class DataIngestionConfig:\n",
    "      root_dir: Path\n",
    "      source_URL: str\n",
    "      local_data_file: Path\n",
    "      unzip_dir: Path"
   ]
  },
  {
   "cell_type": "code",
   "execution_count": 7,
   "id": "bea7a532-a796-4105-9e9d-44272b7cf000",
   "metadata": {},
   "outputs": [],
   "source": [
    "from cnnClassifire.constants import *\n",
    "from cnnClassifire.utils.common import read_yaml,create_directories"
   ]
  },
  {
   "cell_type": "code",
   "execution_count": 8,
   "id": "e162be88-89d2-432c-9deb-c2fa7335e514",
   "metadata": {},
   "outputs": [],
   "source": [
    "# now update configuration from config\n",
    "\n",
    "class ConfigurationManager:\n",
    "    def __init__(self,config_filepath = CONFIG_FILE_PATH,params_filepath = PARAMS_FILE_PATH):\n",
    "        self.config = read_yaml(config_filepath)\n",
    "        self.params = read_yaml(params_filepath)\n",
    "\n",
    "        create_directories([self.config.artifacts_root])\n",
    "\n",
    "    def get_data_ingestion_config(self) -> DataIngestionConfig:\n",
    "        config = self.config.data_ingestion\n",
    "        create_directories([config.root_dir])\n",
    "        data_ingestion_config = DataIngestionConfig(\n",
    "            root_dir=config.root_dir,\n",
    "            source_URL=config.source_URL,\n",
    "            local_data_file=config.local_data_file,\n",
    "            unzip_dir=config.unzip_dir)\n",
    "        return data_ingestion_config\n",
    "\n"
   ]
  },
  {
   "cell_type": "code",
   "execution_count": 10,
   "id": "692b2744-6c53-4e26-a390-4fa5ab2469ad",
   "metadata": {},
   "outputs": [],
   "source": [
    "# 6. Update the components\n",
    "\n",
    "import os\n",
    "import urllib.request as request\n",
    "import zipfile\n",
    "from cnnClassifire import logger\n",
    "from cnnClassifire.utils.common import get_size\n",
    "\n",
    "\n",
    "class DataIngestion:\n",
    "    def __init__(self,config: DataIngestionConfig):\n",
    "        self.config = config\n",
    "\n",
    "    def download_file(self):\n",
    "        if not os.path.exists(self.config.local_data_file):\n",
    "            filename, headers = request.urlretrieve(\n",
    "                url = "
   ]
  },
  {
   "cell_type": "code",
   "execution_count": null,
   "id": "6202199b-751e-4530-b3b7-6c3fe7bf40ae",
   "metadata": {},
   "outputs": [],
   "source": []
  }
 ],
 "metadata": {
  "kernelspec": {
   "display_name": "Python 3 (ipykernel)",
   "language": "python",
   "name": "python3"
  },
  "language_info": {
   "codemirror_mode": {
    "name": "ipython",
    "version": 3
   },
   "file_extension": ".py",
   "mimetype": "text/x-python",
   "name": "python",
   "nbconvert_exporter": "python",
   "pygments_lexer": "ipython3",
   "version": "3.10.12"
  }
 },
 "nbformat": 4,
 "nbformat_minor": 5
}
