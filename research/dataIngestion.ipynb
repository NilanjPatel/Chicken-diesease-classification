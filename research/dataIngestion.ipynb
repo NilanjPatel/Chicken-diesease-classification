{
 "cells": [
  {
   "cell_type": "code",
   "execution_count": 1,
   "id": "f7f71cf1-d25b-443a-b12c-f23a8e1123b7",
   "metadata": {},
   "outputs": [],
   "source": [
    "import os"
   ]
  },
  {
   "cell_type": "code",
   "execution_count": 2,
   "id": "89159822-968c-4580-a9aa-3cc50b756e65",
   "metadata": {},
   "outputs": [
    {
     "data": {
      "text/plain": [
       "'/home/nilanj/PyCharmProjects/ML/Chicken-diesease-classification/research'"
      ]
     },
     "execution_count": 2,
     "metadata": {},
     "output_type": "execute_result"
    }
   ],
   "source": [
    "%pwd"
   ]
  },
  {
   "cell_type": "code",
   "execution_count": 3,
   "id": "be96e0b1-47ee-4837-9e56-8102c03d6564",
   "metadata": {},
   "outputs": [],
   "source": [
    "os.chdir(\"../\")"
   ]
  },
  {
   "cell_type": "code",
   "execution_count": 4,
   "id": "4ba8eae0-bae2-4952-9fa6-67b67da72ec7",
   "metadata": {},
   "outputs": [
    {
     "data": {
      "text/plain": [
       "'/home/nilanj/PyCharmProjects/ML/Chicken-diesease-classification'"
      ]
     },
     "execution_count": 4,
     "metadata": {},
     "output_type": "execute_result"
    }
   ],
   "source": [
    "%pwd"
   ]
  },
  {
   "cell_type": "code",
   "execution_count": 5,
   "id": "02f8f89c-96d0-4df5-839b-76a6a21183cb",
   "metadata": {},
   "outputs": [],
   "source": [
    "# After upadting config I will update entity as I don't have any secret and I am going to update params later\n",
    " # you can create custom return type usin entity"
   ]
  },
  {
   "cell_type": "code",
   "execution_count": 6,
   "id": "f596878e-fcd9-4ff8-912b-2e6985d137af",
   "metadata": {},
   "outputs": [],
   "source": [
    "from dataclasses import dataclass\n",
    "from pathlib import Path\n",
    "\n",
    "@dataclass(frozen=True)\n",
    "class DataIngestionConfig:\n",
    "      root_dir: Path\n",
    "      source_URL: str\n",
    "      local_data_file: Path\n",
    "      unzip_dir: Path"
   ]
  },
  {
   "cell_type": "code",
   "execution_count": 7,
   "id": "bea7a532-a796-4105-9e9d-44272b7cf000",
   "metadata": {},
   "outputs": [],
   "source": []
  },
  {
   "cell_type": "code",
   "execution_count": 8,
   "id": "e162be88-89d2-432c-9deb-c2fa7335e514",
   "metadata": {},
   "outputs": [],
   "source": [
    "# now update configuration from config\n",
    "from cnnClassifire.constants import *\n",
    "from cnnClassifire.utils.common import read_yaml,create_directories\n",
    "\n",
    "class ConfigurationManager:\n",
    "    def __init__(self,config_filepath = CONFIG_FILE_PATH,params_filepath = PARAMS_FILE_PATH):\n",
    "        self.config = read_yaml(config_filepath)\n",
    "        self.params = read_yaml(params_filepath)\n",
    "\n",
    "        create_directories([self.config.artifacts_root])\n",
    "\n",
    "    def get_data_ingestion_config(self) -> DataIngestionConfig:\n",
    "        config = self.config.data_ingestion\n",
    "        create_directories([config.root_dir])\n",
    "        data_ingestion_config = DataIngestionConfig(\n",
    "            root_dir=config.root_dir,\n",
    "            source_URL=config.source_URL,\n",
    "            local_data_file=config.local_data_file,\n",
    "            unzip_dir=config.unzip_dir)\n",
    "        return data_ingestion_config \n",
    "\n"
   ]
  },
  {
   "cell_type": "code",
   "execution_count": 9,
   "id": "692b2744-6c53-4e26-a390-4fa5ab2469ad",
   "metadata": {},
   "outputs": [],
   "source": [
    "# 6. Update the components\n",
    "\n",
    "import os\n",
    "import urllib.request as request\n",
    "import zipfile\n",
    "from cnnClassifire import logger\n",
    "from cnnClassifire.utils.common import get_size\n",
    "\n",
    "\n",
    "class DataIngestion:\n",
    "    def __init__(self,config: DataIngestionConfig):\n",
    "        self.config = config\n",
    "\n",
    "    def download_file(self):\n",
    "        if not os.path.exists(self.config.local_data_file):\n",
    "            filename, headers = request.urlretrieve(\n",
    "                url = self.config.source_URL,\n",
    "                filename= self.config.local_data_file)\n",
    "            logger.info(f\"{filename} download! with following info:\\n{headers}\")\n",
    "        else:logger.info(f\"File already exists of size:{get_size(Path(self.config.local_data_file))}\")\n",
    "\n",
    "    def extract_zip_file(self):\n",
    "        \"\"\"\n",
    "        zip_file_path:str\n",
    "        Extract the zip file in to the data directory\n",
    "        Fucntion returns None\n",
    "        \"\"\"\n",
    "        unzip_path = self.config.unzip_dir\n",
    "        os.makedirs(unzip_path, exist_ok=True)\n",
    "        with zipfile.ZipFile(self.config.local_data_file,'r') as zip_ref:\n",
    "            zip_ref.extractall(unzip_path)"
   ]
  },
  {
   "cell_type": "code",
   "execution_count": 10,
   "id": "6202199b-751e-4530-b3b7-6c3fe7bf40ae",
   "metadata": {},
   "outputs": [
    {
     "name": "stdout",
     "output_type": "stream",
     "text": [
      "[2023-08-18 13:14:54,779:INFO:common:yaml file: config/config.yaml loaded successfully]\n",
      "[2023-08-18 13:14:54,782:INFO:common:yaml file: params.yaml loaded successfully]\n",
      "[2023-08-18 13:14:54,784:INFO:common:created directory at: artifacts]\n",
      "[2023-08-18 13:14:54,786:INFO:common:created directory at: artifacts/data_ingestion]\n",
      "[2023-08-18 13:14:54,787:INFO:1485634637:File already exists of size:~ 11345 KB]\n"
     ]
    }
   ],
   "source": [
    "# 7. update pipeline\n",
    "\n",
    "try:\n",
    "    config = ConfigurationManager()\n",
    "    data_ingestion_config = config.get_data_ingestion_config()\n",
    "    data_ingestion = DataIngestion(config=data_ingestion_config)\n",
    "    data_ingestion.download_file()\n",
    "    data_ingestion.extract_zip_file()\n",
    "except Exception as e:\n",
    "    raise e    \n"
   ]
  },
  {
   "cell_type": "markdown",
   "id": "fa1a9ed7-8302-448f-bb5e-608d1492951f",
   "metadata": {},
   "source": [
    "<h3> to convert in modular coding let's floow the flow </h3>"
   ]
  },
  {
   "cell_type": "code",
   "execution_count": null,
   "id": "29c04ca1-0cc4-48bb-b2c6-59f5c8fd816c",
   "metadata": {},
   "outputs": [],
   "source": []
  },
  {
   "cell_type": "code",
   "execution_count": null,
   "id": "9d247a76-b6bc-4900-92a4-4ea09fc169c6",
   "metadata": {},
   "outputs": [],
   "source": []
  },
  {
   "cell_type": "code",
   "execution_count": null,
   "id": "47a50cbd-ca73-4758-bb50-83ca4240d783",
   "metadata": {},
   "outputs": [],
   "source": []
  },
  {
   "cell_type": "code",
   "execution_count": null,
   "id": "1a0fa225-e617-4d66-9aeb-e22a3e14a985",
   "metadata": {},
   "outputs": [],
   "source": []
  },
  {
   "cell_type": "code",
   "execution_count": null,
   "id": "6ee7f2a4-da58-4322-b1ca-dbc6b073a984",
   "metadata": {},
   "outputs": [],
   "source": []
  },
  {
   "cell_type": "code",
   "execution_count": null,
   "id": "4fc8166a-8c86-48ba-96eb-403d69eb6a24",
   "metadata": {},
   "outputs": [],
   "source": []
  },
  {
   "cell_type": "code",
   "execution_count": null,
   "id": "381dea66-e906-4370-971e-b2a59c9cc8b5",
   "metadata": {},
   "outputs": [],
   "source": []
  },
  {
   "cell_type": "code",
   "execution_count": null,
   "id": "28c8cb18-75fd-43bf-96e5-e3c5770f316c",
   "metadata": {},
   "outputs": [],
   "source": []
  },
  {
   "cell_type": "code",
   "execution_count": null,
   "id": "3cd3efa2-8b84-47a8-8413-e5bb2f302600",
   "metadata": {},
   "outputs": [],
   "source": []
  },
  {
   "cell_type": "code",
   "execution_count": null,
   "id": "80e56afa-4c07-4af6-ab9e-b7516334a380",
   "metadata": {},
   "outputs": [],
   "source": []
  },
  {
   "cell_type": "code",
   "execution_count": null,
   "id": "b4d4ed23-603b-408d-b8a8-d79519cde615",
   "metadata": {},
   "outputs": [],
   "source": []
  },
  {
   "cell_type": "code",
   "execution_count": null,
   "id": "9588a49e-a288-4fdc-a3c7-f095369a5a32",
   "metadata": {},
   "outputs": [],
   "source": []
  },
  {
   "cell_type": "code",
   "execution_count": null,
   "id": "034560b4-742f-47f5-9e38-867d56885133",
   "metadata": {},
   "outputs": [],
   "source": []
  }
 ],
 "metadata": {
  "kernelspec": {
   "display_name": "Python 3 (ipykernel)",
   "language": "python",
   "name": "python3"
  },
  "language_info": {
   "codemirror_mode": {
    "name": "ipython",
    "version": 3
   },
   "file_extension": ".py",
   "mimetype": "text/x-python",
   "name": "python",
   "nbconvert_exporter": "python",
   "pygments_lexer": "ipython3",
   "version": "3.10.12"
  }
 },
 "nbformat": 4,
 "nbformat_minor": 5
}
